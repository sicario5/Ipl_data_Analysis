{
 "cells": [
  {
   "cell_type": "code",
   "execution_count": null,
   "id": "ab7e2edb",
   "metadata": {
    "vscode": {
     "languageId": "plaintext"
    }
   },
   "outputs": [],
   "source": [
    "import os\n",
    "import csv\n",
    "import json\n",
    "from kafka import KafkaProducer"
   ]
  },
  {
   "cell_type": "code",
   "execution_count": null,
   "id": "3d6f1a19",
   "metadata": {
    "vscode": {
     "languageId": "plaintext"
    }
   },
   "outputs": [],
   "source": [
    "KAFKA_BROKER = 'localhost:9092'\n",
    "TOPIC_NAME = 'csv_json_topic'\n",
    "CSV_FOLDER = 'data/csv_files'"
   ]
  },
  {
   "cell_type": "code",
   "execution_count": null,
   "id": "337d6a46",
   "metadata": {
    "vscode": {
     "languageId": "plaintext"
    }
   },
   "outputs": [],
   "source": [
    "producer = KafkaProducer(\n",
    "    bootstrap_servers=KAFKA_BROKER,\n",
    "    value_serializer=lambda v: json.dumps(v).encode('utf-8')\n",
    ")"
   ]
  },
  {
   "cell_type": "code",
   "execution_count": null,
   "id": "b4fff1f3",
   "metadata": {
    "vscode": {
     "languageId": "plaintext"
    }
   },
   "outputs": [],
   "source": [
    "def send_csv_files(csv_folder):\n",
    "    files = [f for f in os.listdir(csv_folder) if f.endswith('.csv')]\n",
    "    \n",
    "    for file in files:\n",
    "        file_path = os.path.join(csv_folder, file)\n",
    "        #print(f\"Processing file: {file_path}\")\n",
    "\n",
    "        with open(file_path, 'r') as f:\n",
    "            reader = csv.DictReader(f)\n",
    "            for row in reader:\n",
    "                message = {\n",
    "                    'filename': file,\n",
    "                    'data': row\n",
    "                }\n",
    "                producer.send(TOPIC_NAME, value=message)\n",
    "                #print(f\"Sent: {message}\")\n",
    "\n",
    "    producer.flush()\n",
    "    print(\"All files sent.\")\n",
    "send_csv_files(CSV_FOLDER)"
   ]
  }
 ],
 "metadata": {
  "language_info": {
   "name": "python"
  }
 },
 "nbformat": 4,
 "nbformat_minor": 5
}
